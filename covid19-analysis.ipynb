# 📌 Step 1: Import Libraries
import pandas as pd
import matplotlib.pyplot as plt
import seaborn as sns
import plotly.express as px

plt.style.use('seaborn-whitegrid')
sns.set(style="whitegrid")

# 📌 Step 2: Load Dataset
df = pd.read_csv("owid-covid-data.csv")
print("✅ Dataset loaded!")

# 📌 Step 3: Initial Exploration
print(df.columns)
print(df.head())
print(df.isnull().sum())

# 📌 Step 4: Data Cleaning
countries = ['Kenya', 'United States', 'India']
df = df[df['location'].isin(countries)]
df = df.dropna(subset=['date', 'total_cases', 'total_deaths'])
df['date'] = pd.to_datetime(df['date'])
df.fillna(0, inplace=True)

# 📌 Step 5: Exploratory Data Analysis (EDA)
plt.figure(figsize=(12,6))
for country in countries:
    data = df[df['location'] == country]
    plt.plot(data['date'], data['total_cases'], label=country)
plt.title("Total COVID-19 Cases Over Time")
plt.xlabel("Date")
plt.ylabel("Total Cases")
plt.legend()
plt.show()

# Plot Total Deaths
plt.figure(figsize=(12,6))
for country in countries:
    data = df[df['location'] == country]
    plt.plot(data['date'], data['total_deaths'], label=country)
plt.title("Total COVID-19 Deaths Over Time")
plt.xlabel("Date")
plt.ylabel("Total Deaths")
plt.legend()
plt.show()

# 📌 Death Rate
df['death_rate'] = df['total_deaths'] / df['total_cases']
sns.lineplot(data=df, x='date', y='death_rate', hue='location')
plt.title("COVID-19 Death Rate Over Time")
plt.show()

# 📌 Step 6: Vaccination Progress
plt.figure(figsize=(12,6))
for country in countries:
    data = df[df['location'] == country]
    plt.plot(data['date'], data['total_vaccinations'], label=country)
plt.title("Total Vaccinations Over Time")
plt.xlabel("Date")
plt.ylabel("Total Vaccinations")
plt.legend()
plt.show()

# 📌 Step 7 (Optional): Choropleth Map
latest_date = df['date'].max()
latest_data = df[df['date'] == latest_date]
choropleth_data = latest_data[['iso_code', 'location', 'total_cases']]

fig = px.choropleth(choropleth_data,
                    locations="iso_code",
                    color="total_cases",
                    hover_name="location",
                    title="Total COVID-19 Cases by Country")
fig.show()
